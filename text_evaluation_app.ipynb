{
 "cells": [
  {
   "cell_type": "markdown",
   "id": "9d4de599-1871-40a9-ba75-fd1e53c8878c",
   "metadata": {},
   "source": [
    "# Проект: оценка, улучшение и написание текстов для сайта\n",
    "Author: Mikhail Orlov (Михаил Орлов)"
   ]
  },
  {
   "cell_type": "markdown",
   "id": "b282105b-8c72-4b24-8570-67b9eb9a0625",
   "metadata": {},
   "source": [
    "## Initial imports and data preparation"
   ]
  },
  {
   "cell_type": "code",
   "execution_count": 3,
   "id": "ebb5d0e9-9763-4f2b-8ac3-0602cb780577",
   "metadata": {},
   "outputs": [],
   "source": [
    "import openai\n",
    "import os\n",
    "from redlines import Redlines\n",
    "from IPython.display import display, Markdown\n",
    "\n",
    "openai.api_key = os.getenv('OPENAI_API_KEY')\n",
    "client = openai.OpenAI()"
   ]
  },
  {
   "cell_type": "code",
   "execution_count": 4,
   "id": "bb7c2d25-7b7d-46ea-a04d-4deade281100",
   "metadata": {},
   "outputs": [],
   "source": [
    "def get_completion_from_messages(messages, \n",
    "                                 model=\"gpt-4-turbo-preview\", \n",
    "                                 temperature=0, \n",
    "                                 max_tokens=2000):\n",
    "    response = client.chat.completions.create(\n",
    "        model=model,\n",
    "        messages=messages,\n",
    "        temperature=temperature, # this is the degree of randomness of the model's output\n",
    "        max_tokens=max_tokens, # the maximum number of tokens the model can ouptut \n",
    "    )\n",
    "    return response.choices[0].message.content"
   ]
  },
  {
   "cell_type": "markdown",
   "id": "a04ed294-e37f-4541-b1dc-472501c71e86",
   "metadata": {},
   "source": [
    "## Prompt Engineering"
   ]
  },
  {
   "cell_type": "code",
   "execution_count": 5,
   "id": "d5bbe6a7-b256-4056-8bbc-b1d18b5bd769",
   "metadata": {},
   "outputs": [],
   "source": [
    "# car_version / car_configuration попробовать\n",
    "sample_text = \"\"\"\n",
    "Лизинг — аренда имущества с возможностью его выкупа. Согласно российскому законодательству, можно заключить лизинговую сделку на транспортные средства, оборудование, здания и другие объекты, которые используются многократно на протяжении длительного времени и сохраняют первоначальные потребительские свойства.\n",
    "Что такое прямой лизинг?\n",
    "Прямой лизинг — это сделка, которая происходит без посредника. Функции поставщика предмета лизинга и лизингодателя выполняет одно лицо. При таком формате лизинговой операции передача имущества происходит напрямую арендатору. Он получает возможность использования актива и право собственности в соответствии с условиями договора.\n",
    "Как оформить лизинговое соглашение?\n",
    "Лизинговое соглашение оформляется в виде письменного договора. Он составляется в произвольной форме, но с обязательным указанием следующих пунктов:\n",
    "подробная опись арендуемого имущества;\n",
    "обязательства лизингополучателя пользоваться предметом лизинга по целевому назначению и вносить за него платежи по графику;\n",
    "обязанности лизингодателя приобрести необходимый товар прежде, чем сдавать его в аренду физическому или юридическому лицу.\n",
    "Виды и расчет лизинговых платежей\n",
    "Платежи за лизинг должен вносить клиент как плату за использование имущества лизингодателя. График бывает трех видов:\n",
    "Убывающий. Сразу после заключения лизингового соглашения платеж максимальный, со временем он сокращается, так как рассчитывается от остатка суммы.\n",
    "Сезонный. Платежи осуществляются в тот период, когда у юридического лица пик получения прибыли. Это наиболее ярко прослеживается по договорам на сельскохозяйственную технику.\n",
    "Аннуитетный. Сумма разбивается на равные ежемесячные платежи лизингодателю на протяжении всего срока действия договора.\n",
    "Сравнение с кредитом\n",
    "Прямой лизинг предполагает передачу материального актива, кредит — денег. Деятельность банков регламентирована ЦБ РФ. Для поддержания обязательных нормативов они должны тщательно проверять каждого потенциального заемщика. Оформить актив в лизинг намного проще — лизинговая компания оценивает заявителя по своим внутренним методикам (менее жесткие), просит минимальный пакет документов. \n",
    "Сравнение с арендой\n",
    "При традиционной аренде не предусмотрена возможность выкупа арендуемого имущества. Арендодателем может быть как физическое, так и юридическое лицо. Лизингодатель — всегда юридическое лицо, имеющее разрешение на ведение такой деятельности.\n",
    "Преимущества прямого лизинга\n",
    "Для юридических лиц\n",
    "Преимущества ускоренной амортизации.\n",
    "Быстрое рассмотрение заявки — от 15 минут.\n",
    "Гибкие условия — график платежей планируется под конкретного лизингополучателя. Учитывают его финансовые поступления, сезонность бизнеса и другие факторы.\n",
    "Нет необходимости предоставлять обеспечение.\n",
    "Налоговые льготы при отнесении лизинговых платежей на расходы компании, по НДС и налогу на недвижимость. Нет налога на транспорт, так как право собственности остается у лизингодателя на весь период действия договора.\n",
    "Для физических лиц\n",
    "Минимальный пакет документов для лизинговой компании\n",
    "Не важна кредитная история – если ее нет или она плохая, шансы на получение активов в лизинг не снижаются\n",
    "Договор заключается на долгий срок, благодаря чему регулярный платеж получается небольшим\n",
    "\"\"\"\n",
    "\n",
    "delimiter = \"####\"\n",
    "\n",
    "system_message = \"\"\"You are a marketing team assistant. Our company specializes in car leasing. \\\n",
    "There are different car brands we sell on our website. Your job is to help our SEO specialist \\\n",
    "with the blog content creation and editing. You must always respond in Russian.\"\"\""
   ]
  },
  {
   "cell_type": "markdown",
   "id": "6a4c245f-3bb4-43fa-9f1a-56a664ec660b",
   "metadata": {},
   "source": [
    "### Baseline prompt"
   ]
  },
  {
   "cell_type": "code",
   "execution_count": 6,
   "id": "b9cd9973-790e-44b4-98e7-6ca213f90251",
   "metadata": {},
   "outputs": [],
   "source": [
    "prompt = f\"\"\"\n",
    "Proofread and correct this website article: {delimiter}{sample_text}{delimiter}\n",
    "\"\"\"\n",
    "\n",
    "messages =  [  \n",
    "{'role':'system', 'content': system_message},    \n",
    "{'role':'user', 'content': prompt}\n",
    "]"
   ]
  },
  {
   "cell_type": "code",
   "execution_count": 7,
   "id": "86421d02-b82b-4c6e-8d49-001c56443eed",
   "metadata": {},
   "outputs": [],
   "source": [
    "response = get_completion_from_messages(messages)"
   ]
  },
  {
   "cell_type": "code",
   "execution_count": 8,
   "id": "5636420c-13e8-4c40-880f-c05c668bd8cb",
   "metadata": {},
   "outputs": [
    {
     "data": {
      "text/markdown": [
       "Лизинг — <span style='color:green;font-weight:700;'>это </span>аренда имущества с возможностью его выкупа. Согласно российскому законодательству, можно заключить лизинговую сделку на транспортные средства, оборудование, здания и другие объекты, которые используются многократно на протяжении длительного времени и сохраняют <span style='color:green;font-weight:700;'>свои </span>первоначальные потребительские свойства. \n",
       "\n",
       "Что такое прямой лизинг? \n",
       "\n",
       "Прямой лизинг — это сделка, которая происходит без посредника. Функции поставщика предмета лизинга и лизингодателя выполняет одно <span style='color:green;font-weight:700;'>и то же </span>лицо. При таком формате лизинговой операции передача имущества происходит напрямую арендатору. Он получает возможность использования актива и право собственности в соответствии с условиями договора. \n",
       "\n",
       "Как оформить лизинговое соглашение? \n",
       "\n",
       "Лизинговое соглашение оформляется в виде письменного договора. Он составляется в произвольной форме, но с обязательным указанием следующих пунктов: \n",
       "\n",
       "<span style='color:green;font-weight:700;'>- </span>подробная опись арендуемого имущества; \n",
       "\n",
       "<span style='color:green;font-weight:700;'>- </span>обязательства лизингополучателя пользоваться предметом лизинга по целевому назначению и вносить за него платежи по графику; \n",
       "\n",
       "<span style='color:green;font-weight:700;'>- </span>обязанности лизингодателя приобрести необходимый товар прежде, чем сдавать его в аренду физическому или юридическому лицу. \n",
       "\n",
       "Виды и расчет лизинговых платежей \n",
       "\n",
       "Платежи за лизинг должен вносить клиент как плату за использование имущества лизингодателя. График <span style='color:green;font-weight:700;'>платежей </span>бывает трех видов: \n",
       "\n",
       "<span style='color:green;font-weight:700;'>- </span>Убывающий. Сразу после заключения лизингового соглашения платеж максимальный, со временем он сокращается, так как рассчитывается от остатка суммы. \n",
       "\n",
       "<span style='color:green;font-weight:700;'>- </span>Сезонный. Платежи осуществляются в тот период, когда у юридического лица пик получения прибыли. Это наиболее ярко прослеживается по договорам на сельскохозяйственную технику. \n",
       "\n",
       "<span style='color:green;font-weight:700;'>- </span>Аннуитетный. Сумма разбивается на равные ежемесячные платежи лизингодателю на протяжении всего срока действия договора. \n",
       "\n",
       "Сравнение с кредитом \n",
       "\n",
       "Прямой лизинг предполагает передачу материального актива, кредит — денег. Деятельность банков регламентирована ЦБ РФ. Для поддержания обязательных нормативов они должны тщательно проверять каждого потенциального заемщика. Оформить актив в лизинг намного проще — лизинговая компания оценивает заявителя по своим внутренним <span style='color:red;font-weight:700;text-decoration:line-through;'>методикам (</span><span style='color:green;font-weight:700;'>методикам, которые </span>менее <span style='color:red;font-weight:700;text-decoration:line-through;'>жесткие), </span><span style='color:green;font-weight:700;'>жесткие, и </span>просит минимальный пакет документов. \n",
       "\n",
       "Сравнение с арендой \n",
       "\n",
       "При традиционной аренде не предусмотрена возможность выкупа арендуемого имущества. Арендодателем может быть как физическое, так и юридическое лицо. Лизингодатель — всегда юридическое лицо, имеющее разрешение на ведение такой деятельности. \n",
       "\n",
       "Преимущества прямого лизинга \n",
       "\n",
       "Для юридических <span style='color:red;font-weight:700;text-decoration:line-through;'>лиц ¶ </span><span style='color:green;font-weight:700;'>лиц: </span>\n",
       "\n",
       "<span style='color:green;font-weight:700;'>- </span>Преимущества ускоренной амортизации. \n",
       "\n",
       "<span style='color:green;font-weight:700;'>- </span>Быстрое рассмотрение заявки — от 15 минут. \n",
       "\n",
       "<span style='color:green;font-weight:700;'>- </span>Гибкие условия — график платежей планируется под конкретного лизингополучателя. <span style='color:red;font-weight:700;text-decoration:line-through;'>Учитывают </span><span style='color:green;font-weight:700;'>Учитываются </span>его финансовые поступления, сезонность бизнеса и другие факторы. \n",
       "\n",
       "<span style='color:green;font-weight:700;'>- </span>Нет необходимости предоставлять обеспечение. \n",
       "\n",
       "<span style='color:green;font-weight:700;'>- </span>Налоговые льготы при отнесении лизинговых платежей на расходы компании, по НДС и налогу на недвижимость. Нет налога на транспорт, так как право собственности остается у лизингодателя на весь период действия договора. \n",
       "\n",
       "Для физических <span style='color:red;font-weight:700;text-decoration:line-through;'>лиц ¶ </span><span style='color:green;font-weight:700;'>лиц: </span>\n",
       "\n",
       "<span style='color:green;font-weight:700;'>- </span>Минимальный пакет документов для лизинговой <span style='color:red;font-weight:700;text-decoration:line-through;'>компании ¶ </span><span style='color:green;font-weight:700;'>компании. </span>\n",
       "\n",
       "<span style='color:green;font-weight:700;'>- </span>Не важна кредитная история – если ее нет или она плохая, шансы на получение активов в лизинг не <span style='color:red;font-weight:700;text-decoration:line-through;'>снижаются ¶ </span><span style='color:green;font-weight:700;'>снижаются. </span>\n",
       "\n",
       "<span style='color:green;font-weight:700;'>- </span>Договор заключается на долгий срок, благодаря чему регулярный платеж получается <span style='color:red;font-weight:700;text-decoration:line-through;'>небольшим</span><span style='color:green;font-weight:700;'>небольшим.</span>"
      ],
      "text/plain": [
       "<IPython.core.display.Markdown object>"
      ]
     },
     "metadata": {},
     "output_type": "display_data"
    }
   ],
   "source": [
    "diff = Redlines(sample_text, response)\n",
    "display(Markdown(diff.output_markdown))"
   ]
  },
  {
   "cell_type": "code",
   "execution_count": 9,
   "id": "3147b4cf-2b0c-42d7-a65d-4bed7ad93e1a",
   "metadata": {},
   "outputs": [
    {
     "data": {
      "text/markdown": [
       "Лизинг — это аренда имущества с возможностью его выкупа. Согласно российскому законодательству, можно заключить лизинговую сделку на транспортные средства, оборудование, здания и другие объекты, которые используются многократно на протяжении длительного времени и сохраняют свои первоначальные потребительские свойства.\n",
       "\n",
       "Что такое прямой лизинг?\n",
       "\n",
       "Прямой лизинг — это сделка, которая происходит без посредника. Функции поставщика предмета лизинга и лизингодателя выполняет одно и то же лицо. При таком формате лизинговой операции передача имущества происходит напрямую арендатору. Он получает возможность использования актива и право собственности в соответствии с условиями договора.\n",
       "\n",
       "Как оформить лизинговое соглашение?\n",
       "\n",
       "Лизинговое соглашение оформляется в виде письменного договора. Он составляется в произвольной форме, но с обязательным указанием следующих пунктов:\n",
       "\n",
       "- подробная опись арендуемого имущества;\n",
       "- обязательства лизингополучателя пользоваться предметом лизинга по целевому назначению и вносить за него платежи по графику;\n",
       "- обязанности лизингодателя приобрести необходимый товар прежде, чем сдавать его в аренду физическому или юридическому лицу.\n",
       "\n",
       "Виды и расчет лизинговых платежей\n",
       "\n",
       "Платежи за лизинг должен вносить клиент как плату за использование имущества лизингодателя. График платежей бывает трех видов:\n",
       "\n",
       "- Убывающий. Сразу после заключения лизингового соглашения платеж максимальный, со временем он сокращается, так как рассчитывается от остатка суммы.\n",
       "- Сезонный. Платежи осуществляются в тот период, когда у юридического лица пик получения прибыли. Это наиболее ярко прослеживается по договорам на сельскохозяйственную технику.\n",
       "- Аннуитетный. Сумма разбивается на равные ежемесячные платежи лизингодателю на протяжении всего срока действия договора.\n",
       "\n",
       "Сравнение с кредитом\n",
       "\n",
       "Прямой лизинг предполагает передачу материального актива, кредит — денег. Деятельность банков регламентирована ЦБ РФ. Для поддержания обязательных нормативов они должны тщательно проверять каждого потенциального заемщика. Оформить актив в лизинг намного проще — лизинговая компания оценивает заявителя по своим внутренним методикам, которые менее жесткие, и просит минимальный пакет документов.\n",
       "\n",
       "Сравнение с арендой\n",
       "\n",
       "При традиционной аренде не предусмотрена возможность выкупа арендуемого имущества. Арендодателем может быть как физическое, так и юридическое лицо. Лизингодатель — всегда юридическое лицо, имеющее разрешение на ведение такой деятельности.\n",
       "\n",
       "Преимущества прямого лизинга\n",
       "\n",
       "Для юридических лиц:\n",
       "\n",
       "- Преимущества ускоренной амортизации.\n",
       "- Быстрое рассмотрение заявки — от 15 минут.\n",
       "- Гибкие условия — график платежей планируется под конкретного лизингополучателя. Учитываются его финансовые поступления, сезонность бизнеса и другие факторы.\n",
       "- Нет необходимости предоставлять обеспечение.\n",
       "- Налоговые льготы при отнесении лизинговых платежей на расходы компании, по НДС и налогу на недвижимость. Нет налога на транспорт, так как право собственности остается у лизингодателя на весь период действия договора.\n",
       "\n",
       "Для физических лиц:\n",
       "\n",
       "- Минимальный пакет документов для лизинговой компании.\n",
       "- Не важна кредитная история – если ее нет или она плохая, шансы на получение активов в лизинг не снижаются.\n",
       "- Договор заключается на долгий срок, благодаря чему регулярный платеж получается небольшим."
      ],
      "text/plain": [
       "<IPython.core.display.Markdown object>"
      ]
     },
     "metadata": {},
     "output_type": "display_data"
    }
   ],
   "source": [
    "display(Markdown(response))"
   ]
  },
  {
   "cell_type": "markdown",
   "id": "42debddf-3b4d-4d76-815f-578551825021",
   "metadata": {},
   "source": [
    "#### Назначим новую роль"
   ]
  },
  {
   "cell_type": "code",
   "execution_count": 10,
   "id": "2ca2cf4b-246a-49e8-9087-9970fcae9d72",
   "metadata": {},
   "outputs": [],
   "source": [
    "prompt = f\"\"\"\n",
    "Act like a professional chief editor in a car leasing company's journal. \\\n",
    "Proofread and correct this website article: {delimiter}{sample_text}{delimiter}\n",
    "\"\"\"\n",
    "\n",
    "messages =  [  \n",
    "{'role':'system', 'content': system_message},    \n",
    "{'role':'user', 'content': prompt}\n",
    "]"
   ]
  },
  {
   "cell_type": "code",
   "execution_count": 11,
   "id": "aa11f21a-f2a2-4307-8b6c-5b5cf9ed28cf",
   "metadata": {},
   "outputs": [],
   "source": [
    "response = get_completion_from_messages(messages)"
   ]
  },
  {
   "cell_type": "code",
   "execution_count": 12,
   "id": "758812b1-8649-45d9-b2e9-a3897e372633",
   "metadata": {},
   "outputs": [
    {
     "data": {
      "text/markdown": [
       "Лизинг — <span style='color:green;font-weight:700;'>это </span>аренда имущества с возможностью его выкупа. Согласно российскому законодательству, можно заключить лизинговую сделку на транспортные средства, оборудование, здания и другие объекты, которые используются многократно на протяжении длительного времени и сохраняют <span style='color:green;font-weight:700;'>свои </span>первоначальные потребительские свойства. \n",
       "\n",
       "Что такое прямой лизинг? \n",
       "\n",
       "Прямой лизинг — это сделка, <span style='color:red;font-weight:700;text-decoration:line-through;'>которая происходит </span><span style='color:green;font-weight:700;'>происходящая </span>без <span style='color:red;font-weight:700;text-decoration:line-through;'>посредника. </span><span style='color:green;font-weight:700;'>посредников. </span>Функции поставщика предмета лизинга и лизингодателя выполняет одно <span style='color:green;font-weight:700;'>и то же </span>лицо. <span style='color:red;font-weight:700;text-decoration:line-through;'>При </span><span style='color:green;font-weight:700;'>В </span>таком формате лизинговой операции передача имущества происходит напрямую <span style='color:red;font-weight:700;text-decoration:line-through;'>арендатору. Он </span><span style='color:green;font-weight:700;'>арендатору, который </span>получает возможность <span style='color:red;font-weight:700;text-decoration:line-through;'>использования актива </span><span style='color:green;font-weight:700;'>использовать актив </span>и право собственности в соответствии с условиями договора. \n",
       "\n",
       "Как оформить лизинговое соглашение? \n",
       "\n",
       "Лизинговое соглашение оформляется в виде письменного договора. Он составляется в произвольной форме, но <span style='color:red;font-weight:700;text-decoration:line-through;'>с обязательным указанием следующих пунктов: ¶ подробная опись </span><span style='color:green;font-weight:700;'>должен обязательно включать следующие пункты: </span>\n",
       "\n",
       "<span style='color:green;font-weight:700;'>- подробное описание </span>арендуемого имущества; \n",
       "\n",
       "<span style='color:green;font-weight:700;'>- </span>обязательства лизингополучателя <span style='color:red;font-weight:700;text-decoration:line-through;'>пользоваться предметом </span><span style='color:green;font-weight:700;'>использовать предмет </span>лизинга по целевому назначению и вносить за него платежи <span style='color:red;font-weight:700;text-decoration:line-through;'>по </span><span style='color:green;font-weight:700;'>согласно </span>графику; \n",
       "\n",
       "<span style='color:green;font-weight:700;'>- </span>обязанности лизингодателя приобрести необходимый товар <span style='color:red;font-weight:700;text-decoration:line-through;'>прежде, чем сдавать </span><span style='color:green;font-weight:700;'>перед </span>его <span style='color:red;font-weight:700;text-decoration:line-through;'>в аренду </span><span style='color:green;font-weight:700;'>арендой </span>физическому или юридическому лицу. \n",
       "\n",
       "Виды и расчет лизинговых платежей \n",
       "\n",
       "Платежи за лизинг <span style='color:red;font-weight:700;text-decoration:line-through;'>должен вносить </span><span style='color:green;font-weight:700;'>вносит </span>клиент как плату за использование имущества лизингодателя. График <span style='color:red;font-weight:700;text-decoration:line-through;'>бывает </span><span style='color:green;font-weight:700;'>платежей может быть </span>трех видов: \n",
       "\n",
       "<span style='color:green;font-weight:700;'>- </span>Убывающий. Сразу после заключения лизингового соглашения платеж <span style='color:red;font-weight:700;text-decoration:line-through;'>максимальный, </span><span style='color:green;font-weight:700;'>максимален, </span>со временем он <span style='color:red;font-weight:700;text-decoration:line-through;'>сокращается, </span><span style='color:green;font-weight:700;'>уменьшается, </span>так как рассчитывается от <span style='color:red;font-weight:700;text-decoration:line-through;'>остатка </span><span style='color:green;font-weight:700;'>остаточной </span>суммы. \n",
       "\n",
       "<span style='color:green;font-weight:700;'>- </span>Сезонный. Платежи <span style='color:red;font-weight:700;text-decoration:line-through;'>осуществляются в тот </span><span style='color:green;font-weight:700;'>производятся в </span>период, когда у юридического лица пик <span style='color:red;font-weight:700;text-decoration:line-through;'>получения </span>прибыли. Это <span style='color:red;font-weight:700;text-decoration:line-through;'>наиболее ярко прослеживается по договорам </span><span style='color:green;font-weight:700;'>особенно актуально для договоров </span>на сельскохозяйственную технику. \n",
       "\n",
       "<span style='color:green;font-weight:700;'>- </span>Аннуитетный. Сумма разбивается на равные ежемесячные платежи лизингодателю на <span style='color:red;font-weight:700;text-decoration:line-through;'>протяжении всего срока </span><span style='color:green;font-weight:700;'>весь срок </span>действия договора. \n",
       "\n",
       "Сравнение с кредитом \n",
       "\n",
       "<span style='color:red;font-weight:700;text-decoration:line-through;'>Прямой лизинг предполагает </span><span style='color:green;font-weight:700;'>В отличие от прямого лизинга, предполагающего </span>передачу материального актива, кредит <span style='color:red;font-weight:700;text-decoration:line-through;'>— </span><span style='color:green;font-weight:700;'>включает передачу </span>денег. Деятельность банков <span style='color:red;font-weight:700;text-decoration:line-through;'>регламентирована ЦБ РФ. Для поддержания обязательных нормативов они должны тщательно проверять </span><span style='color:green;font-weight:700;'>регулируется Центральным Банком РФ, который требует от них тщательной проверки </span>каждого потенциального заемщика. Оформить актив в лизинг <span style='color:red;font-weight:700;text-decoration:line-through;'>намного проще — </span><span style='color:green;font-weight:700;'>проще, поскольку </span>лизинговая компания оценивает заявителя по своим внутренним <span style='color:red;font-weight:700;text-decoration:line-through;'>методикам (</span><span style='color:green;font-weight:700;'>методикам, которые </span>менее <span style='color:red;font-weight:700;text-decoration:line-through;'>жесткие), просит </span><span style='color:green;font-weight:700;'>жестки, и требует </span>минимальный пакет документов. \n",
       "\n",
       "Сравнение с арендой \n",
       "\n",
       "<span style='color:red;font-weight:700;text-decoration:line-through;'>При </span><span style='color:green;font-weight:700;'>В отличие от </span>традиционной <span style='color:red;font-weight:700;text-decoration:line-through;'>аренде </span><span style='color:green;font-weight:700;'>аренды, где </span>не предусмотрена возможность выкупа арендуемого <span style='color:red;font-weight:700;text-decoration:line-through;'>имущества. Арендодателем </span><span style='color:green;font-weight:700;'>имущества, лизингодатель всегда является юридическим лицом с разрешением на ведение такой деятельности, а арендодателем </span>может быть как физическое, так и юридическое лицо. <span style='color:red;font-weight:700;text-decoration:line-through;'>Лизингодатель — всегда юридическое лицо, имеющее разрешение на ведение такой деятельности. </span>\n",
       "\n",
       "Преимущества прямого лизинга \n",
       "\n",
       "Для юридических <span style='color:red;font-weight:700;text-decoration:line-through;'>лиц ¶ Преимущества ускоренной амортизации. ¶ </span><span style='color:green;font-weight:700;'>лиц: </span>\n",
       "\n",
       "<span style='color:green;font-weight:700;'>- Ускоренная амортизация. </span>\n",
       "\n",
       "<span style='color:green;font-weight:700;'>- </span>Быстрое рассмотрение заявки — от 15 минут. \n",
       "\n",
       "<span style='color:green;font-weight:700;'>- </span>Гибкие <span style='color:red;font-weight:700;text-decoration:line-through;'>условия — </span><span style='color:green;font-weight:700;'>условия: </span>график платежей планируется под конкретного <span style='color:red;font-weight:700;text-decoration:line-through;'>лизингополучателя. Учитывают </span><span style='color:green;font-weight:700;'>лизингополучателя, учитывая </span>его финансовые поступления, сезонность бизнеса и другие факторы. \n",
       "\n",
       "<span style='color:red;font-weight:700;text-decoration:line-through;'>Нет </span><span style='color:green;font-weight:700;'>- Отсутствие </span>необходимости <span style='color:red;font-weight:700;text-decoration:line-through;'>предоставлять обеспечение. ¶ </span><span style='color:green;font-weight:700;'>предоставления обеспечения. </span>\n",
       "\n",
       "<span style='color:green;font-weight:700;'>- </span>Налоговые льготы при отнесении лизинговых платежей на расходы компании, по НДС и налогу на недвижимость. Нет налога на транспорт, так как право собственности остается у лизингодателя на весь период действия договора. \n",
       "\n",
       "Для физических <span style='color:red;font-weight:700;text-decoration:line-through;'>лиц ¶ </span><span style='color:green;font-weight:700;'>лиц: </span>\n",
       "\n",
       "<span style='color:green;font-weight:700;'>- </span>Минимальный пакет документов для лизинговой <span style='color:red;font-weight:700;text-decoration:line-through;'>компании ¶ </span><span style='color:green;font-weight:700;'>компании. </span>\n",
       "\n",
       "<span style='color:green;font-weight:700;'>- </span>Не важна кредитная <span style='color:red;font-weight:700;text-decoration:line-through;'>история – </span><span style='color:green;font-weight:700;'>история: даже </span>если ее нет или она плохая, шансы на получение активов в лизинг не <span style='color:red;font-weight:700;text-decoration:line-through;'>снижаются ¶ </span><span style='color:green;font-weight:700;'>снижаются. </span>\n",
       "\n",
       "<span style='color:green;font-weight:700;'>- </span>Договор заключается на <span style='color:red;font-weight:700;text-decoration:line-through;'>долгий </span><span style='color:green;font-weight:700;'>длительный </span>срок, <span style='color:red;font-weight:700;text-decoration:line-through;'>благодаря чему </span><span style='color:green;font-weight:700;'>что позволяет сделать </span>регулярный платеж <span style='color:red;font-weight:700;text-decoration:line-through;'>получается небольшим</span><span style='color:green;font-weight:700;'>небольшим.</span>"
      ],
      "text/plain": [
       "<IPython.core.display.Markdown object>"
      ]
     },
     "metadata": {},
     "output_type": "display_data"
    }
   ],
   "source": [
    "diff = Redlines(sample_text, response)\n",
    "display(Markdown(diff.output_markdown))"
   ]
  },
  {
   "cell_type": "code",
   "execution_count": 13,
   "id": "e2f3ddf0-bf87-4a43-bcaa-b0cd14f7e460",
   "metadata": {},
   "outputs": [
    {
     "data": {
      "text/markdown": [
       "Лизинг — это аренда имущества с возможностью его выкупа. Согласно российскому законодательству, можно заключить лизинговую сделку на транспортные средства, оборудование, здания и другие объекты, которые используются многократно на протяжении длительного времени и сохраняют свои первоначальные потребительские свойства.\n",
       "\n",
       "Что такое прямой лизинг?\n",
       "Прямой лизинг — это сделка, происходящая без посредников. Функции поставщика предмета лизинга и лизингодателя выполняет одно и то же лицо. В таком формате лизинговой операции передача имущества происходит напрямую арендатору, который получает возможность использовать актив и право собственности в соответствии с условиями договора.\n",
       "\n",
       "Как оформить лизинговое соглашение?\n",
       "Лизинговое соглашение оформляется в виде письменного договора. Он составляется в произвольной форме, но должен обязательно включать следующие пункты:\n",
       "- подробное описание арендуемого имущества;\n",
       "- обязательства лизингополучателя использовать предмет лизинга по целевому назначению и вносить за него платежи согласно графику;\n",
       "- обязанности лизингодателя приобрести необходимый товар перед его арендой физическому или юридическому лицу.\n",
       "\n",
       "Виды и расчет лизинговых платежей\n",
       "Платежи за лизинг вносит клиент как плату за использование имущества лизингодателя. График платежей может быть трех видов:\n",
       "- Убывающий. Сразу после заключения лизингового соглашения платеж максимален, со временем он уменьшается, так как рассчитывается от остаточной суммы.\n",
       "- Сезонный. Платежи производятся в период, когда у юридического лица пик прибыли. Это особенно актуально для договоров на сельскохозяйственную технику.\n",
       "- Аннуитетный. Сумма разбивается на равные ежемесячные платежи лизингодателю на весь срок действия договора.\n",
       "\n",
       "Сравнение с кредитом\n",
       "В отличие от прямого лизинга, предполагающего передачу материального актива, кредит включает передачу денег. Деятельность банков регулируется Центральным Банком РФ, который требует от них тщательной проверки каждого потенциального заемщика. Оформить актив в лизинг проще, поскольку лизинговая компания оценивает заявителя по своим внутренним методикам, которые менее жестки, и требует минимальный пакет документов.\n",
       "\n",
       "Сравнение с арендой\n",
       "В отличие от традиционной аренды, где не предусмотрена возможность выкупа арендуемого имущества, лизингодатель всегда является юридическим лицом с разрешением на ведение такой деятельности, а арендодателем может быть как физическое, так и юридическое лицо.\n",
       "\n",
       "Преимущества прямого лизинга\n",
       "Для юридических лиц:\n",
       "- Ускоренная амортизация.\n",
       "- Быстрое рассмотрение заявки — от 15 минут.\n",
       "- Гибкие условия: график платежей планируется под конкретного лизингополучателя, учитывая его финансовые поступления, сезонность бизнеса и другие факторы.\n",
       "- Отсутствие необходимости предоставления обеспечения.\n",
       "- Налоговые льготы при отнесении лизинговых платежей на расходы компании, по НДС и налогу на недвижимость. Нет налога на транспорт, так как право собственности остается у лизингодателя на весь период действия договора.\n",
       "\n",
       "Для физических лиц:\n",
       "- Минимальный пакет документов для лизинговой компании.\n",
       "- Не важна кредитная история: даже если ее нет или она плохая, шансы на получение активов в лизинг не снижаются.\n",
       "- Договор заключается на длительный срок, что позволяет сделать регулярный платеж небольшим."
      ],
      "text/plain": [
       "<IPython.core.display.Markdown object>"
      ]
     },
     "metadata": {},
     "output_type": "display_data"
    }
   ],
   "source": [
    "display(Markdown(response))"
   ]
  },
  {
   "cell_type": "markdown",
   "id": "2cbd899e-7921-4948-b755-f6c2158781fc",
   "metadata": {},
   "source": [
    "### Text improvement"
   ]
  },
  {
   "cell_type": "markdown",
   "id": "7e084f73-0a3c-4e04-98c4-30341c27ee8f",
   "metadata": {},
   "source": [
    "#### Попробуем попросить улучшить"
   ]
  },
  {
   "cell_type": "code",
   "execution_count": 14,
   "id": "df292e30-44ec-437d-829e-99685f0c2200",
   "metadata": {},
   "outputs": [],
   "source": [
    "prompt = f\"\"\"\n",
    "Proofread and correct the website article below delimited with {delimiter}. \\\n",
    "Make it more engaging, but keep style and facts. Don't make it sound like an advertisement. \\\n",
    "Target professional business audience. \\\n",
    "\n",
    "The article: {delimiter}{sample_text}{delimiter}\n",
    "\"\"\"\n",
    "\n",
    "messages =  [  \n",
    "{'role':'system', 'content': system_message},    \n",
    "{'role':'user', 'content': prompt}\n",
    "]"
   ]
  },
  {
   "cell_type": "code",
   "execution_count": 15,
   "id": "ef141ec8-183a-4822-880a-03af6bde9fdd",
   "metadata": {},
   "outputs": [],
   "source": [
    "response = get_completion_from_messages(messages)"
   ]
  },
  {
   "cell_type": "code",
   "execution_count": 16,
   "id": "25eb664d-610a-4d25-b742-2c79546618b8",
   "metadata": {},
   "outputs": [
    {
     "data": {
      "text/markdown": [
       "<span style='color:green;font-weight:700;'>#### </span>\n",
       "\n",
       "<span style='color:green;font-weight:700;'></span>Лизинг <span style='color:red;font-weight:700;text-decoration:line-through;'>— аренда </span><span style='color:green;font-weight:700;'>представляет собой аренду </span>имущества с <span style='color:red;font-weight:700;text-decoration:line-through;'>возможностью </span><span style='color:green;font-weight:700;'>опцией </span>его <span style='color:green;font-weight:700;'>последующего </span>выкупа. <span style='color:red;font-weight:700;text-decoration:line-through;'>Согласно российскому законодательству, можно заключить лизинговую сделку </span><span style='color:green;font-weight:700;'>В соответствии с законодательством России, лизинговые сделки могут быть заключены </span>на транспортные средства, оборудование, здания и другие объекты, которые <span style='color:red;font-weight:700;text-decoration:line-through;'>используются многократно </span><span style='color:green;font-weight:700;'>могут быть использованы повторно </span>на протяжении длительного <span style='color:red;font-weight:700;text-decoration:line-through;'>времени и сохраняют </span><span style='color:green;font-weight:700;'>времени, сохраняя свои </span>первоначальные <span style='color:red;font-weight:700;text-decoration:line-through;'>потребительские свойства. </span><span style='color:green;font-weight:700;'>характеристики. </span>\n",
       "\n",
       "Что <span style='color:red;font-weight:700;text-decoration:line-through;'>такое </span><span style='color:green;font-weight:700;'>представляет собой </span>прямой лизинг? \n",
       "\n",
       "Прямой лизинг <span style='color:red;font-weight:700;text-decoration:line-through;'>— </span><span style='color:green;font-weight:700;'>– </span>это <span style='color:red;font-weight:700;text-decoration:line-through;'>сделка, которая происходит </span><span style='color:green;font-weight:700;'>операция, осуществляемая </span>без <span style='color:red;font-weight:700;text-decoration:line-through;'>посредника. Функции поставщика предмета лизинга и лизингодателя выполняет </span><span style='color:green;font-weight:700;'>участия посредников. В данном случае поставщик лизингового имущества и лизингодатель – это </span>одно <span style='color:green;font-weight:700;'>и то же </span>лицо. <span style='color:red;font-weight:700;text-decoration:line-through;'>При таком формате лизинговой операции передача имущества происходит напрямую арендатору. Он получает </span><span style='color:green;font-weight:700;'>Этот формат позволяет передать имущество арендатору напрямую, предоставляя ему </span>возможность <span style='color:red;font-weight:700;text-decoration:line-through;'>использования актива </span><span style='color:green;font-weight:700;'>использовать актив </span>и право собственности <span style='color:green;font-weight:700;'>на него </span>в соответствии с условиями договора. \n",
       "\n",
       "Как <span style='color:red;font-weight:700;text-decoration:line-through;'>оформить </span><span style='color:green;font-weight:700;'>заключается </span>лизинговое соглашение? \n",
       "\n",
       "Лизинговое соглашение оформляется в виде письменного <span style='color:red;font-weight:700;text-decoration:line-through;'>договора. Он составляется в произвольной </span><span style='color:green;font-weight:700;'>договора, который может быть составлен в любой </span>форме, но <span style='color:red;font-weight:700;text-decoration:line-through;'>с обязательным указанием следующих пунктов: ¶ подробная опись </span><span style='color:green;font-weight:700;'>должен обязательно включать следующие пункты: </span>\n",
       "\n",
       "<span style='color:green;font-weight:700;'>- подробное описание </span>арендуемого имущества; \n",
       "\n",
       "<span style='color:green;font-weight:700;'>- </span>обязательства лизингополучателя <span style='color:red;font-weight:700;text-decoration:line-through;'>пользоваться предметом </span><span style='color:green;font-weight:700;'>использовать предмет </span>лизинга по <span style='color:red;font-weight:700;text-decoration:line-through;'>целевому </span>назначению и <span style='color:green;font-weight:700;'>своевременно </span>вносить <span style='color:red;font-weight:700;text-decoration:line-through;'>за него платежи по графику; ¶ </span><span style='color:green;font-weight:700;'>платежи; </span>\n",
       "\n",
       "<span style='color:green;font-weight:700;'>- </span>обязанности лизингодателя приобрести необходимый товар <span style='color:red;font-weight:700;text-decoration:line-through;'>прежде, чем сдавать </span><span style='color:green;font-weight:700;'>до </span>его <span style='color:red;font-weight:700;text-decoration:line-through;'>в аренду физическому или юридическому лицу. </span><span style='color:green;font-weight:700;'>передачи в аренду. </span>\n",
       "\n",
       "Виды и расчет лизинговых платежей \n",
       "\n",
       "<span style='color:red;font-weight:700;text-decoration:line-through;'>Платежи за лизинг должен вносить </span><span style='color:green;font-weight:700;'>Лизинговые платежи, которые </span>клиент <span style='color:red;font-weight:700;text-decoration:line-through;'>как плату </span><span style='color:green;font-weight:700;'>вносит </span>за использование <span style='color:red;font-weight:700;text-decoration:line-through;'>имущества лизингодателя. График бывает трех видов: ¶ Убывающий. Сразу после заключения лизингового соглашения платеж максимальный, </span><span style='color:green;font-weight:700;'>имущества, могут быть различными: </span>\n",
       "\n",
       "<span style='color:green;font-weight:700;'>- Убывающий график предполагает уменьшение платежа </span>со <span style='color:red;font-weight:700;text-decoration:line-through;'>временем он сокращается, так как рассчитывается от остатка суммы. ¶ Сезонный. Платежи осуществляются в тот период, когда у юридического лица пик получения прибыли. Это наиболее ярко прослеживается по договорам на сельскохозяйственную технику. ¶ Аннуитетный. Сумма разбивается на </span><span style='color:green;font-weight:700;'>временем, исходя из остаточной стоимости имущества. </span>\n",
       "\n",
       "<span style='color:green;font-weight:700;'>- Сезонный график подразумевает платежи в периоды пиковой прибыли, что особенно актуально для сельскохозяйственной техники. </span>\n",
       "\n",
       "<span style='color:green;font-weight:700;'>- Аннуитетный график предусматривает </span>равные ежемесячные платежи <span style='color:red;font-weight:700;text-decoration:line-through;'>лизингодателю на протяжении всего срока </span><span style='color:green;font-weight:700;'>на весь срок </span>действия договора. \n",
       "\n",
       "Сравнение с кредитом \n",
       "\n",
       "<span style='color:red;font-weight:700;text-decoration:line-through;'>Прямой </span><span style='color:green;font-weight:700;'>В отличие от кредита, где предметом передачи являются деньги, прямой лизинг включает передачу материального актива. Банковская деятельность строго регулируется Центральным Банком РФ, что требует тщательной проверки заемщиков. Лизинговые компании, используя собственные методики оценки, могут предложить более простые условия оформления. </span>\n",
       "\n",
       "<span style='color:green;font-weight:700;'>Сравнение с арендой </span>\n",
       "\n",
       "<span style='color:green;font-weight:700;'>В отличие от традиционной аренды, где не предусмотрена опция выкупа, </span>лизинг предполагает <span style='color:red;font-weight:700;text-decoration:line-through;'>передачу материального актива, кредит — денег. Деятельность банков регламентирована ЦБ РФ. Для поддержания обязательных нормативов они должны тщательно проверять каждого потенциального заемщика. Оформить актив в лизинг намного проще — лизинговая компания оценивает заявителя по своим внутренним методикам (менее жесткие), просит минимальный пакет документов. ¶ Сравнение с арендой ¶ При традиционной аренде не предусмотрена возможность выкупа арендуемого имущества. Арендодателем </span><span style='color:green;font-weight:700;'>такую возможность. Лизингодателем </span>может быть <span style='color:red;font-weight:700;text-decoration:line-through;'>как физическое, так и </span><span style='color:green;font-weight:700;'>только </span>юридическое <span style='color:red;font-weight:700;text-decoration:line-through;'>лицо. Лизингодатель — всегда юридическое лицо, имеющее разрешение </span><span style='color:green;font-weight:700;'>лицо с соответствующим разрешением </span>на ведение <span style='color:red;font-weight:700;text-decoration:line-through;'>такой </span>деятельности. \n",
       "\n",
       "Преимущества прямого лизинга \n",
       "\n",
       "Для юридических <span style='color:red;font-weight:700;text-decoration:line-through;'>лиц ¶ Преимущества ускоренной амортизации. ¶ </span><span style='color:green;font-weight:700;'>лиц: </span>\n",
       "\n",
       "<span style='color:green;font-weight:700;'>- Ускоренная амортизация. </span>\n",
       "\n",
       "<span style='color:green;font-weight:700;'>- </span>Быстрое рассмотрение <span style='color:red;font-weight:700;text-decoration:line-through;'>заявки — от 15 минут. ¶ </span><span style='color:green;font-weight:700;'>заявки. </span>\n",
       "\n",
       "<span style='color:green;font-weight:700;'>- </span>Гибкие условия <span style='color:red;font-weight:700;text-decoration:line-through;'>— график платежей планируется под конкретного лизингополучателя. Учитывают его финансовые поступления, </span><span style='color:green;font-weight:700;'>платежей, учитывающие финансовое положение и </span>сезонность <span style='color:red;font-weight:700;text-decoration:line-through;'>бизнеса и другие факторы. ¶ Нет </span><span style='color:green;font-weight:700;'>бизнеса. </span>\n",
       "\n",
       "<span style='color:green;font-weight:700;'>- Отсутствие </span>необходимости <span style='color:red;font-weight:700;text-decoration:line-through;'>предоставлять обеспечение. ¶ </span><span style='color:green;font-weight:700;'>в залоге. </span>\n",
       "\n",
       "<span style='color:green;font-weight:700;'>- </span>Налоговые <span style='color:red;font-weight:700;text-decoration:line-through;'>льготы при отнесении лизинговых платежей на расходы компании, по </span><span style='color:green;font-weight:700;'>льготы, включая </span>НДС и <span style='color:red;font-weight:700;text-decoration:line-through;'>налогу </span><span style='color:green;font-weight:700;'>налог </span>на недвижимость. <span style='color:red;font-weight:700;text-decoration:line-through;'>Нет налога на транспорт, так как право собственности остается у лизингодателя на весь период действия договора. </span>\n",
       "\n",
       "Для физических <span style='color:red;font-weight:700;text-decoration:line-through;'>лиц ¶ </span><span style='color:green;font-weight:700;'>лиц: </span>\n",
       "\n",
       "<span style='color:green;font-weight:700;'>- </span>Минимальный пакет <span style='color:red;font-weight:700;text-decoration:line-through;'>документов для лизинговой компании ¶ Не важна кредитная история – если ее нет или она плохая, шансы на получение активов в лизинг не снижаются ¶ Договор заключается на долгий срок, благодаря чему регулярный платеж получается небольшим</span><span style='color:green;font-weight:700;'>документов. </span>\n",
       "\n",
       "<span style='color:green;font-weight:700;'>- Независимость от кредитной истории. </span>\n",
       "\n",
       "<span style='color:green;font-weight:700;'>- Долгосрочный договор, позволяющий снизить размер ежемесячных платежей. </span>\n",
       "\n",
       "<span style='color:green;font-weight:700;'>####</span>"
      ],
      "text/plain": [
       "<IPython.core.display.Markdown object>"
      ]
     },
     "metadata": {},
     "output_type": "display_data"
    }
   ],
   "source": [
    "diff = Redlines(sample_text, response)\n",
    "display(Markdown(diff.output_markdown))"
   ]
  },
  {
   "cell_type": "code",
   "execution_count": 17,
   "id": "0ce52cfa-fda7-45af-93b8-d74223cf5b73",
   "metadata": {},
   "outputs": [
    {
     "data": {
      "text/markdown": [
       "####\n",
       "\n",
       "Лизинг представляет собой аренду имущества с опцией его последующего выкупа. В соответствии с законодательством России, лизинговые сделки могут быть заключены на транспортные средства, оборудование, здания и другие объекты, которые могут быть использованы повторно на протяжении длительного времени, сохраняя свои первоначальные характеристики.\n",
       "\n",
       "Что представляет собой прямой лизинг?\n",
       "Прямой лизинг – это операция, осуществляемая без участия посредников. В данном случае поставщик лизингового имущества и лизингодатель – это одно и то же лицо. Этот формат позволяет передать имущество арендатору напрямую, предоставляя ему возможность использовать актив и право собственности на него в соответствии с условиями договора.\n",
       "\n",
       "Как заключается лизинговое соглашение?\n",
       "Лизинговое соглашение оформляется в виде письменного договора, который может быть составлен в любой форме, но должен обязательно включать следующие пункты:\n",
       "- подробное описание арендуемого имущества;\n",
       "- обязательства лизингополучателя использовать предмет лизинга по назначению и своевременно вносить платежи;\n",
       "- обязанности лизингодателя приобрести необходимый товар до его передачи в аренду.\n",
       "\n",
       "Виды и расчет лизинговых платежей\n",
       "Лизинговые платежи, которые клиент вносит за использование имущества, могут быть различными:\n",
       "- Убывающий график предполагает уменьшение платежа со временем, исходя из остаточной стоимости имущества.\n",
       "- Сезонный график подразумевает платежи в периоды пиковой прибыли, что особенно актуально для сельскохозяйственной техники.\n",
       "- Аннуитетный график предусматривает равные ежемесячные платежи на весь срок действия договора.\n",
       "\n",
       "Сравнение с кредитом\n",
       "В отличие от кредита, где предметом передачи являются деньги, прямой лизинг включает передачу материального актива. Банковская деятельность строго регулируется Центральным Банком РФ, что требует тщательной проверки заемщиков. Лизинговые компании, используя собственные методики оценки, могут предложить более простые условия оформления.\n",
       "\n",
       "Сравнение с арендой\n",
       "В отличие от традиционной аренды, где не предусмотрена опция выкупа, лизинг предполагает такую возможность. Лизингодателем может быть только юридическое лицо с соответствующим разрешением на ведение деятельности.\n",
       "\n",
       "Преимущества прямого лизинга\n",
       "Для юридических лиц:\n",
       "- Ускоренная амортизация.\n",
       "- Быстрое рассмотрение заявки.\n",
       "- Гибкие условия платежей, учитывающие финансовое положение и сезонность бизнеса.\n",
       "- Отсутствие необходимости в залоге.\n",
       "- Налоговые льготы, включая НДС и налог на недвижимость.\n",
       "\n",
       "Для физических лиц:\n",
       "- Минимальный пакет документов.\n",
       "- Независимость от кредитной истории.\n",
       "- Долгосрочный договор, позволяющий снизить размер ежемесячных платежей.\n",
       "\n",
       "####"
      ],
      "text/plain": [
       "<IPython.core.display.Markdown object>"
      ]
     },
     "metadata": {},
     "output_type": "display_data"
    }
   ],
   "source": [
    "display(Markdown(response))"
   ]
  },
  {
   "cell_type": "markdown",
   "id": "f486b115-cce2-4c8d-bb6c-f28e9f5dcedc",
   "metadata": {},
   "source": [
    "#### Попросим модель отредактировать текст в стиле Ильяхова"
   ]
  },
  {
   "cell_type": "code",
   "execution_count": 18,
   "id": "89bcec2b-fc69-4572-b3c8-6c904043fa1b",
   "metadata": {},
   "outputs": [],
   "source": [
    "prompt = f\"\"\"\n",
    "Proofread and correct the website article below delimited with {delimiter}. \\\n",
    "Сделай текст более понятным и полезным, для этого отредактируй текст согласно подходу Максима Ильяхова \\\n",
    "из его книги '''Пиши, сокращай'''. Текст должен быть направлен на профессиональную бизнес аудиторию.\n",
    "\n",
    "The article {delimiter}{sample_text}{delimiter}\n",
    "\"\"\"\n",
    "\n",
    "messages =  [  \n",
    "{'role':'system', 'content': system_message},    \n",
    "{'role':'user', 'content': prompt}\n",
    "]"
   ]
  },
  {
   "cell_type": "code",
   "execution_count": 19,
   "id": "cbab1f84-4d5b-4efd-8508-6d956e462ade",
   "metadata": {},
   "outputs": [],
   "source": [
    "response = get_completion_from_messages(messages)"
   ]
  },
  {
   "cell_type": "code",
   "execution_count": 20,
   "id": "6d8ac19e-d500-482f-b15e-45da16d29a67",
   "metadata": {},
   "outputs": [
    {
     "data": {
      "text/markdown": [
       "####\n",
       "\n",
       "Лизинг — это когда вы арендуете что-то с возможностью потом это выкупить. В России так можно делать с машинами, оборудованием, зданиями и другими вещами, которые долго используются и не теряют своих качеств.\n",
       "\n",
       "**Что такое прямой лизинг?**  \n",
       "Это когда вы берете вещь в аренду напрямую от того, кто ее предлагает, без посредников. Такой способ позволяет арендатору пользоваться имуществом и в конечном итоге стать его владельцем по условиям договора.\n",
       "\n",
       "**Как оформить лизинговое соглашение?**  \n",
       "Договор пишется в свободной форме, но обязательно должен включать:\n",
       "- описание арендуемого имущества;\n",
       "- обязательства арендатора использовать имущество по назначению и платить за него вовремя;\n",
       "- обязанности арендодателя купить и предоставить имущество в аренду.\n",
       "\n",
       "**Виды и расчет лизинговых платежей**  \n",
       "Платежи могут быть:\n",
       "- Убывающими: сначала платите больше, потом меньше.\n",
       "- Сезонными: платите тогда, когда у вас больше всего доходов.\n",
       "- Аннуитетными: платите равными частями на протяжении всего срока договора.\n",
       "\n",
       "**Сравнение с кредитом и арендой**  \n",
       "В отличие от кредита, где банки дают деньги и строго проверяют заемщиков, в лизинге вам дают имущество, и условия проверки проще. А в отличие от обычной аренды, в лизинге у вас есть возможность выкупить имущество.\n",
       "\n",
       "**Преимущества прямого лизинга**  \n",
       "Для юридических лиц:\n",
       "- Ускоренная амортизация.\n",
       "- Быстрое рассмотрение заявки.\n",
       "- Гибкие условия платежей.\n",
       "- Не нужно давать залог.\n",
       "- Налоговые льготы.\n",
       "\n",
       "Для физических лиц:\n",
       "- Нужно меньше документов.\n",
       "- Не так важна кредитная история.\n",
       "- Долгосрочный договор делает ежемесячный платеж меньше.\n",
       "\n",
       "####"
      ],
      "text/plain": [
       "<IPython.core.display.Markdown object>"
      ]
     },
     "metadata": {},
     "output_type": "display_data"
    }
   ],
   "source": [
    "display(Markdown(response))"
   ]
  },
  {
   "cell_type": "code",
   "execution_count": 21,
   "id": "6d3fc6ac-7b9c-475a-8ce2-f8510fcdc986",
   "metadata": {},
   "outputs": [
    {
     "data": {
      "text/markdown": [
       "<span style='color:green;font-weight:700;'>#### </span>\n",
       "\n",
       "<span style='color:green;font-weight:700;'></span>Лизинг — <span style='color:red;font-weight:700;text-decoration:line-through;'>аренда имущества </span><span style='color:green;font-weight:700;'>это когда вы арендуете что-то </span>с возможностью <span style='color:red;font-weight:700;text-decoration:line-through;'>его выкупа. Согласно российскому законодательству, </span><span style='color:green;font-weight:700;'>потом это выкупить. В России так </span>можно <span style='color:red;font-weight:700;text-decoration:line-through;'>заключить лизинговую сделку на транспортные средства, оборудование, здания и другие объекты, </span><span style='color:green;font-weight:700;'>делать с машинами, оборудованием, зданиями и другими вещами, </span>которые <span style='color:green;font-weight:700;'>долго </span>используются <span style='color:red;font-weight:700;text-decoration:line-through;'>многократно на протяжении длительного времени и сохраняют первоначальные потребительские свойства. ¶ Что </span><span style='color:green;font-weight:700;'>и не теряют своих качеств. </span>\n",
       "\n",
       "<span style='color:green;font-weight:700;'>**Что </span>такое прямой <span style='color:red;font-weight:700;text-decoration:line-through;'>лизинг? ¶ Прямой лизинг — это сделка, которая происходит </span><span style='color:green;font-weight:700;'>лизинг?** </span>\n",
       "\n",
       "<span style='color:green;font-weight:700;'>Это когда вы берете вещь в аренду напрямую от того, кто ее предлагает, </span>без <span style='color:red;font-weight:700;text-decoration:line-through;'>посредника. Функции поставщика предмета лизинга и лизингодателя выполняет одно лицо. При таком формате лизинговой операции передача имущества происходит напрямую арендатору. Он получает возможность использования актива и право собственности в соответствии с условиями </span><span style='color:green;font-weight:700;'>посредников. Такой способ позволяет арендатору пользоваться имуществом и в конечном итоге стать его владельцем по условиям </span>договора. \n",
       "\n",
       "<span style='color:red;font-weight:700;text-decoration:line-through;'>Как </span><span style='color:green;font-weight:700;'>**Как </span>оформить лизинговое <span style='color:red;font-weight:700;text-decoration:line-through;'>соглашение? ¶ Лизинговое соглашение оформляется в виде письменного договора. Он составляется в произвольной </span><span style='color:green;font-weight:700;'>соглашение?** </span>\n",
       "\n",
       "<span style='color:green;font-weight:700;'>Договор пишется в свободной </span>форме, но <span style='color:red;font-weight:700;text-decoration:line-through;'>с обязательным указанием следующих пунктов: ¶ подробная опись </span><span style='color:green;font-weight:700;'>обязательно должен включать: </span>\n",
       "\n",
       "<span style='color:green;font-weight:700;'>- описание </span>арендуемого имущества; \n",
       "\n",
       "<span style='color:green;font-weight:700;'>- </span>обязательства <span style='color:red;font-weight:700;text-decoration:line-through;'>лизингополучателя пользоваться предметом лизинга </span><span style='color:green;font-weight:700;'>арендатора использовать имущество </span>по <span style='color:red;font-weight:700;text-decoration:line-through;'>целевому </span>назначению и <span style='color:red;font-weight:700;text-decoration:line-through;'>вносить </span><span style='color:green;font-weight:700;'>платить </span>за него <span style='color:red;font-weight:700;text-decoration:line-through;'>платежи по графику; ¶ </span><span style='color:green;font-weight:700;'>вовремя; </span>\n",
       "\n",
       "<span style='color:green;font-weight:700;'>- </span>обязанности <span style='color:red;font-weight:700;text-decoration:line-through;'>лизингодателя приобрести необходимый товар прежде, чем сдавать его в аренду физическому или юридическому лицу. ¶ Виды </span><span style='color:green;font-weight:700;'>арендодателя купить и предоставить имущество в аренду. </span>\n",
       "\n",
       "<span style='color:green;font-weight:700;'>**Виды </span>и расчет лизинговых <span style='color:red;font-weight:700;text-decoration:line-through;'>платежей </span><span style='color:green;font-weight:700;'>платежей** </span>\n",
       "\n",
       "Платежи <span style='color:red;font-weight:700;text-decoration:line-through;'>за лизинг должен вносить клиент как плату за использование имущества лизингодателя. График бывает трех видов: ¶ Убывающий. Сразу после заключения лизингового соглашения платеж максимальный, со временем он сокращается, так как рассчитывается от остатка суммы. ¶ Сезонный. Платежи осуществляются в тот период, </span><span style='color:green;font-weight:700;'>могут быть: </span>\n",
       "\n",
       "<span style='color:green;font-weight:700;'>- Убывающими: сначала платите больше, потом меньше. </span>\n",
       "\n",
       "<span style='color:green;font-weight:700;'>- Сезонными: платите тогда, </span>когда у <span style='color:red;font-weight:700;text-decoration:line-through;'>юридического лица пик получения прибыли. Это наиболее ярко прослеживается по договорам на сельскохозяйственную технику. ¶ Аннуитетный. Сумма разбивается на равные ежемесячные платежи лизингодателю </span><span style='color:green;font-weight:700;'>вас больше всего доходов. </span>\n",
       "\n",
       "<span style='color:green;font-weight:700;'>- Аннуитетными: платите равными частями </span>на протяжении всего срока <span style='color:red;font-weight:700;text-decoration:line-through;'>действия </span>договора. \n",
       "\n",
       "<span style='color:red;font-weight:700;text-decoration:line-through;'>Сравнение </span><span style='color:green;font-weight:700;'>**Сравнение </span>с кредитом <span style='color:red;font-weight:700;text-decoration:line-through;'>¶ Прямой лизинг предполагает передачу материального актива, кредит — денег. Деятельность банков регламентирована ЦБ РФ. Для поддержания обязательных нормативов они должны тщательно проверять каждого потенциального заемщика. Оформить актив в лизинг намного проще — лизинговая компания оценивает заявителя по своим внутренним методикам (менее жесткие), просит минимальный пакет документов. ¶ Сравнение с арендой ¶ При традиционной аренде не предусмотрена </span><span style='color:green;font-weight:700;'>и арендой** </span>\n",
       "\n",
       "<span style='color:green;font-weight:700;'>В отличие от кредита, где банки дают деньги и строго проверяют заемщиков, в лизинге вам дают имущество, и условия проверки проще. А в отличие от обычной аренды, в лизинге у вас есть </span>возможность <span style='color:red;font-weight:700;text-decoration:line-through;'>выкупа арендуемого имущества. Арендодателем может быть как физическое, так и юридическое лицо. Лизингодатель — всегда юридическое лицо, имеющее разрешение на ведение такой деятельности. ¶ Преимущества </span><span style='color:green;font-weight:700;'>выкупить имущество. </span>\n",
       "\n",
       "<span style='color:green;font-weight:700;'>**Преимущества </span>прямого <span style='color:red;font-weight:700;text-decoration:line-through;'>лизинга </span><span style='color:green;font-weight:700;'>лизинга** </span>\n",
       "\n",
       "Для юридических <span style='color:red;font-weight:700;text-decoration:line-through;'>лиц ¶ Преимущества ускоренной амортизации. ¶ </span><span style='color:green;font-weight:700;'>лиц: </span>\n",
       "\n",
       "<span style='color:green;font-weight:700;'>- Ускоренная амортизация. </span>\n",
       "\n",
       "<span style='color:green;font-weight:700;'>- </span>Быстрое рассмотрение <span style='color:red;font-weight:700;text-decoration:line-through;'>заявки — от 15 минут. ¶ </span><span style='color:green;font-weight:700;'>заявки. </span>\n",
       "\n",
       "<span style='color:green;font-weight:700;'>- </span>Гибкие условия <span style='color:red;font-weight:700;text-decoration:line-through;'>— график платежей планируется под конкретного лизингополучателя. Учитывают его финансовые поступления, сезонность бизнеса и другие факторы. ¶ Нет необходимости предоставлять обеспечение. ¶ </span><span style='color:green;font-weight:700;'>платежей. </span>\n",
       "\n",
       "<span style='color:green;font-weight:700;'>- Не нужно давать залог. </span>\n",
       "\n",
       "<span style='color:green;font-weight:700;'>- </span>Налоговые <span style='color:red;font-weight:700;text-decoration:line-through;'>льготы при отнесении лизинговых платежей на расходы компании, по НДС и налогу на недвижимость. Нет налога на транспорт, так как право собственности остается у лизингодателя на весь период действия договора. </span><span style='color:green;font-weight:700;'>льготы. </span>\n",
       "\n",
       "Для физических <span style='color:red;font-weight:700;text-decoration:line-through;'>лиц ¶ Минимальный пакет документов для лизинговой компании ¶ </span><span style='color:green;font-weight:700;'>лиц: </span>\n",
       "\n",
       "<span style='color:green;font-weight:700;'>- Нужно меньше документов. </span>\n",
       "\n",
       "<span style='color:green;font-weight:700;'>- </span>Не <span style='color:green;font-weight:700;'>так </span>важна кредитная <span style='color:red;font-weight:700;text-decoration:line-through;'>история – если ее нет или она плохая, шансы на получение активов в лизинг не снижаются ¶ Договор заключается на долгий срок, благодаря чему регулярный </span><span style='color:green;font-weight:700;'>история. </span>\n",
       "\n",
       "<span style='color:green;font-weight:700;'>- Долгосрочный договор делает ежемесячный </span>платеж <span style='color:red;font-weight:700;text-decoration:line-through;'>получается небольшим</span><span style='color:green;font-weight:700;'>меньше. </span>\n",
       "\n",
       "<span style='color:green;font-weight:700;'>####</span>"
      ],
      "text/plain": [
       "<IPython.core.display.Markdown object>"
      ]
     },
     "metadata": {},
     "output_type": "display_data"
    }
   ],
   "source": [
    "diff = Redlines(sample_text, response)\n",
    "display(Markdown(diff.output_markdown))"
   ]
  },
  {
   "cell_type": "markdown",
   "id": "7accf99f-9901-4992-8204-60ab698b4fe6",
   "metadata": {},
   "source": [
    "#### Ещё раз в стиле Ильяхова, но чуть другой запрос"
   ]
  },
  {
   "cell_type": "code",
   "execution_count": 24,
   "id": "162baf7c-b06b-47b7-8236-7bbd8c37e419",
   "metadata": {},
   "outputs": [],
   "source": [
    "prompt = f\"\"\"\n",
    "Proofread and correct the website article below delimited with {delimiter}. \\\n",
    "Сделай текст более понятным и полезным, для этого отредактируй текст в '''информационном стиле''' \\\n",
    "и примени подход Максима Ильяхова из его книги '''Пиши, сокращай'''. Текст должен быть направлен на профессиональную бизнес аудиторию.\n",
    "\n",
    "The article {delimiter}{sample_text}{delimiter}\n",
    "\"\"\"\n",
    "\n",
    "messages =  [  \n",
    "{'role':'system', 'content': system_message},    \n",
    "{'role':'user', 'content': prompt}\n",
    "]"
   ]
  },
  {
   "cell_type": "code",
   "execution_count": 25,
   "id": "8ca7deb9-3994-4e84-863b-b4de643b817c",
   "metadata": {},
   "outputs": [],
   "source": [
    "response = get_completion_from_messages(messages)"
   ]
  },
  {
   "cell_type": "code",
   "execution_count": 26,
   "id": "e3d7b676-f235-496f-93f9-29af759bf4de",
   "metadata": {},
   "outputs": [
    {
     "data": {
      "text/markdown": [
       "####\n",
       "\n",
       "Лизинг — это когда вы арендуете что-то с возможностью потом это купить. В России так можно делать с машинами, оборудованием, зданиями и другими вещами, которые долго используются и не теряют своих качеств.\n",
       "\n",
       "**Что такое прямой лизинг?**  \n",
       "Это когда вы берете вещь в лизинг напрямую от того, кто ее предлагает, без посредников. Такой способ позволяет арендатору сразу использовать имущество и в конце срока договора получить на него право собственности.\n",
       "\n",
       "**Как оформить лизинговое соглашение?**  \n",
       "Договор лизинга пишется на бумаге и должен включать: описание арендуемого имущества, обязательства арендатора по его использованию и платежам, а также обязанности лизингодателя купить и предоставить имущество.\n",
       "\n",
       "**Виды и расчет лизинговых платежей**  \n",
       "Платежи могут быть:\n",
       "- Убывающими: сначала платите больше, потом меньше.\n",
       "- Сезонными: платите тогда, когда у вас больше всего доходов.\n",
       "- Аннуитетными: платите равными частями на протяжении всего срока договора.\n",
       "\n",
       "**Сравнение с кредитом и арендой**  \n",
       "В отличие от кредита, где банки дают деньги и строго проверяют заемщиков, в лизинге вам дают имущество, и условия проверки проще. А в отличие от обычной аренды, в лизинге у вас есть возможность выкупить имущество.\n",
       "\n",
       "**Преимущества прямого лизинга**  \n",
       "Для бизнеса:\n",
       "- Ускоренная амортизация.\n",
       "- Быстрое одобрение заявки.\n",
       "- Гибкие условия платежей.\n",
       "- Не нужно давать залог.\n",
       "- Налоговые льготы.\n",
       "\n",
       "Для частных лиц:\n",
       "- Нужно меньше документов.\n",
       "- Не так важна кредитная история.\n",
       "- Долгосрочный договор делает ежемесячный платеж меньше.\n",
       "\n",
       "####"
      ],
      "text/plain": [
       "<IPython.core.display.Markdown object>"
      ]
     },
     "metadata": {},
     "output_type": "display_data"
    }
   ],
   "source": [
    "display(Markdown(response))"
   ]
  },
  {
   "cell_type": "code",
   "execution_count": 27,
   "id": "25f1bbe7-77b7-4069-b2b4-907ba7792849",
   "metadata": {},
   "outputs": [
    {
     "data": {
      "text/markdown": [
       "<span style='color:green;font-weight:700;'>#### </span>\n",
       "\n",
       "<span style='color:green;font-weight:700;'></span>Лизинг — <span style='color:red;font-weight:700;text-decoration:line-through;'>аренда имущества </span><span style='color:green;font-weight:700;'>это когда вы арендуете что-то </span>с возможностью <span style='color:red;font-weight:700;text-decoration:line-through;'>его выкупа. Согласно российскому законодательству, </span><span style='color:green;font-weight:700;'>потом это купить. В России так </span>можно <span style='color:red;font-weight:700;text-decoration:line-through;'>заключить лизинговую сделку на транспортные средства, оборудование, здания и другие объекты, </span><span style='color:green;font-weight:700;'>делать с машинами, оборудованием, зданиями и другими вещами, </span>которые <span style='color:green;font-weight:700;'>долго </span>используются <span style='color:red;font-weight:700;text-decoration:line-through;'>многократно на протяжении длительного времени и сохраняют первоначальные потребительские свойства. ¶ Что </span><span style='color:green;font-weight:700;'>и не теряют своих качеств. </span>\n",
       "\n",
       "<span style='color:green;font-weight:700;'>**Что </span>такое прямой <span style='color:red;font-weight:700;text-decoration:line-through;'>лизинг? ¶ Прямой </span><span style='color:green;font-weight:700;'>лизинг?** </span>\n",
       "\n",
       "<span style='color:green;font-weight:700;'>Это когда вы берете вещь в </span>лизинг <span style='color:red;font-weight:700;text-decoration:line-through;'>— это сделка, которая происходит </span><span style='color:green;font-weight:700;'>напрямую от того, кто ее предлагает, </span>без <span style='color:red;font-weight:700;text-decoration:line-through;'>посредника. Функции поставщика предмета лизинга и лизингодателя выполняет одно лицо. При таком формате лизинговой операции передача имущества происходит напрямую арендатору. Он получает возможность использования актива и </span><span style='color:green;font-weight:700;'>посредников. Такой способ позволяет арендатору сразу использовать имущество и в конце срока договора получить на него </span>право <span style='color:red;font-weight:700;text-decoration:line-through;'>собственности в соответствии с условиями договора. ¶ Как </span><span style='color:green;font-weight:700;'>собственности. </span>\n",
       "\n",
       "<span style='color:green;font-weight:700;'>**Как </span>оформить лизинговое <span style='color:red;font-weight:700;text-decoration:line-through;'>соглашение? ¶ Лизинговое соглашение оформляется в виде письменного договора. Он составляется в произвольной форме, но с обязательным указанием следующих пунктов: ¶ подробная опись </span><span style='color:green;font-weight:700;'>соглашение?** </span>\n",
       "\n",
       "<span style='color:green;font-weight:700;'>Договор лизинга пишется на бумаге и должен включать: описание </span>арендуемого <span style='color:red;font-weight:700;text-decoration:line-through;'>имущества; ¶ </span><span style='color:green;font-weight:700;'>имущества, </span>обязательства <span style='color:red;font-weight:700;text-decoration:line-through;'>лизингополучателя пользоваться предметом лизинга </span><span style='color:green;font-weight:700;'>арендатора </span>по <span style='color:red;font-weight:700;text-decoration:line-through;'>целевому назначению и вносить за него платежи по графику; ¶ </span><span style='color:green;font-weight:700;'>его использованию и платежам, а также </span>обязанности лизингодателя <span style='color:red;font-weight:700;text-decoration:line-through;'>приобрести необходимый товар прежде, чем сдавать его в аренду физическому или юридическому лицу. ¶ Виды </span><span style='color:green;font-weight:700;'>купить и предоставить имущество. </span>\n",
       "\n",
       "<span style='color:green;font-weight:700;'>**Виды </span>и расчет лизинговых <span style='color:red;font-weight:700;text-decoration:line-through;'>платежей </span><span style='color:green;font-weight:700;'>платежей** </span>\n",
       "\n",
       "Платежи <span style='color:red;font-weight:700;text-decoration:line-through;'>за лизинг должен вносить клиент как плату за использование имущества лизингодателя. График бывает трех видов: ¶ Убывающий. Сразу после заключения лизингового соглашения платеж максимальный, со временем он сокращается, так как рассчитывается от остатка суммы. ¶ Сезонный. Платежи осуществляются в тот период, </span><span style='color:green;font-weight:700;'>могут быть: </span>\n",
       "\n",
       "<span style='color:green;font-weight:700;'>- Убывающими: сначала платите больше, потом меньше. </span>\n",
       "\n",
       "<span style='color:green;font-weight:700;'>- Сезонными: платите тогда, </span>когда у <span style='color:red;font-weight:700;text-decoration:line-through;'>юридического лица пик получения прибыли. Это наиболее ярко прослеживается по договорам на сельскохозяйственную технику. ¶ Аннуитетный. Сумма разбивается на равные ежемесячные платежи лизингодателю </span><span style='color:green;font-weight:700;'>вас больше всего доходов. </span>\n",
       "\n",
       "<span style='color:green;font-weight:700;'>- Аннуитетными: платите равными частями </span>на протяжении всего срока <span style='color:red;font-weight:700;text-decoration:line-through;'>действия </span>договора. \n",
       "\n",
       "<span style='color:red;font-weight:700;text-decoration:line-through;'>Сравнение </span><span style='color:green;font-weight:700;'>**Сравнение </span>с кредитом <span style='color:red;font-weight:700;text-decoration:line-through;'>¶ Прямой лизинг предполагает передачу материального актива, кредит — денег. Деятельность банков регламентирована ЦБ РФ. </span><span style='color:green;font-weight:700;'>и арендой** </span>\n",
       "\n",
       "<span style='color:green;font-weight:700;'>В отличие от кредита, где банки дают деньги и строго проверяют заемщиков, в лизинге вам дают имущество, и условия проверки проще. А в отличие от обычной аренды, в лизинге у вас есть возможность выкупить имущество. </span>\n",
       "\n",
       "<span style='color:green;font-weight:700;'>**Преимущества прямого лизинга** </span>\n",
       "\n",
       "<span style='color:green;font-weight:700;'></span>Для <span style='color:red;font-weight:700;text-decoration:line-through;'>поддержания обязательных нормативов они должны тщательно проверять каждого потенциального заемщика. Оформить актив в лизинг намного проще — лизинговая компания оценивает заявителя по своим внутренним методикам (менее жесткие), просит минимальный пакет документов. ¶ Сравнение с арендой ¶ При традиционной аренде не предусмотрена возможность выкупа арендуемого имущества. Арендодателем может быть как физическое, так и юридическое лицо. Лизингодатель — всегда юридическое лицо, имеющее разрешение на ведение такой деятельности. ¶ Преимущества прямого лизинга ¶ Для юридических лиц ¶ Преимущества ускоренной амортизации. ¶ </span><span style='color:green;font-weight:700;'>бизнеса: </span>\n",
       "\n",
       "<span style='color:green;font-weight:700;'>- Ускоренная амортизация. </span>\n",
       "\n",
       "<span style='color:green;font-weight:700;'>- </span>Быстрое <span style='color:red;font-weight:700;text-decoration:line-through;'>рассмотрение заявки — от 15 минут. ¶ </span><span style='color:green;font-weight:700;'>одобрение заявки. </span>\n",
       "\n",
       "<span style='color:green;font-weight:700;'>- </span>Гибкие условия <span style='color:red;font-weight:700;text-decoration:line-through;'>— график платежей планируется под конкретного лизингополучателя. Учитывают его финансовые поступления, сезонность бизнеса и другие факторы. ¶ Нет необходимости предоставлять обеспечение. ¶ </span><span style='color:green;font-weight:700;'>платежей. </span>\n",
       "\n",
       "<span style='color:green;font-weight:700;'>- Не нужно давать залог. </span>\n",
       "\n",
       "<span style='color:green;font-weight:700;'>- </span>Налоговые <span style='color:red;font-weight:700;text-decoration:line-through;'>льготы при отнесении лизинговых платежей на расходы компании, по НДС и налогу на недвижимость. Нет налога на транспорт, </span><span style='color:green;font-weight:700;'>льготы. </span>\n",
       "\n",
       "<span style='color:green;font-weight:700;'>Для частных лиц: </span>\n",
       "\n",
       "<span style='color:green;font-weight:700;'>- Нужно меньше документов. </span>\n",
       "\n",
       "<span style='color:green;font-weight:700;'>- Не </span>так <span style='color:red;font-weight:700;text-decoration:line-through;'>как право собственности остается у лизингодателя на весь период действия договора. ¶ Для физических лиц ¶ Минимальный пакет документов для лизинговой компании ¶ Не </span>важна кредитная <span style='color:red;font-weight:700;text-decoration:line-through;'>история – если ее нет или она плохая, шансы на получение активов в лизинг не снижаются ¶ Договор заключается на долгий срок, благодаря чему регулярный </span><span style='color:green;font-weight:700;'>история. </span>\n",
       "\n",
       "<span style='color:green;font-weight:700;'>- Долгосрочный договор делает ежемесячный </span>платеж <span style='color:red;font-weight:700;text-decoration:line-through;'>получается небольшим</span><span style='color:green;font-weight:700;'>меньше. </span>\n",
       "\n",
       "<span style='color:green;font-weight:700;'>####</span>"
      ],
      "text/plain": [
       "<IPython.core.display.Markdown object>"
      ]
     },
     "metadata": {},
     "output_type": "display_data"
    }
   ],
   "source": [
    "diff = Redlines(sample_text, response)\n",
    "display(Markdown(diff.output_markdown))"
   ]
  },
  {
   "cell_type": "code",
   "execution_count": 25,
   "id": "68b833c3-e9d8-4514-b5e0-6e094f38a1fd",
   "metadata": {},
   "outputs": [],
   "source": [
    "prompt = f\"\"\"\n",
    "Твоя задача - написать описание автомобиля для страницы автомобиля в каталоге на сайте, \\\n",
    "основываясь на технической информации, которая выделена таким разделителем:{delimiter}. \\\n",
    "Текст должен учитывать заголовок, состоять из нескольких абзацев, иметь маркированные списки и содерждать ключевые фразы, \\\n",
    "выделенные таким образом: <пример ключевой фразы>. Объём текста должен составлять от 3000 до 4000 символов.\n",
    "\n",
    "Выполняй задачу по шагам:\n",
    "1. Изучи заголовок, техническую информацию и ключевые фразы\n",
    "2. Подумай, что ты знаешь о {fact_sheet_car_dict['offer']['car_brand']} {fact_sheet_car_dict['offer']['car_model']}\n",
    "3. Составь финальное описание автомобиля, объединив информацию из предыдущих пунктов. Помни что текст должен \\\n",
    "учитывать заголовок, состоять из нескольких абзацев, иметь маркированные списки и содерждать ключевые фразы\n",
    "\n",
    "Заголовок:{delimiter}{H1}{delimiter}.\n",
    "Техническая информация:{delimiter}{fact_sheet_car}{delimiter}.\n",
    "Ключевые фразы: <{fact_sheet_car_dict['offer']['TS_type']}>, <{fact_sheet_car_dict['offer']['car_brand']}>, \\\n",
    "<{fact_sheet_car_dict['offer']['car_brand_transcrpt']}>, <{fact_sheet_car_dict['offer']['car_model']}>, \\\n",
    "<{fact_sheet_car_dict['offer']['Варианты комплектаций']}>, <{fact_sheet_car_dict['offer']['Варианты привода']}>, \\\n",
    "<преимущества лизинга>, <условия лизинга>.\n",
    "\"\"\"\n",
    "\n",
    "messages =  [  \n",
    "{'role':'system', 'content': system_message},    \n",
    "{'role':'user', 'content': prompt}\n",
    "]"
   ]
  },
  {
   "cell_type": "code",
   "execution_count": 24,
   "id": "da69f3d9-56d1-481f-95d4-52caa1a75b25",
   "metadata": {},
   "outputs": [
    {
     "name": "stdout",
     "output_type": "stream",
     "text": [
      "**Haval H9 в лизинг для юр. лиц и ИП**\n",
      "\n",
      "В поисках надежного и мощного внедорожника для вашего бизнеса? <Haval H9> представляет собой идеальное сочетание комфорта, мощности и технологичности, доступное теперь и в лизинг для юридических лиц и индивидуальных предпринимателей. Этот автомобиль не только подчеркнет статус вашей компании, но и станет надежным помощником в любых поездках.\n",
      "\n",
      "**Технические характеристики и особенности**\n",
      "\n",
      "- **Модель**: Haval H9 Elite 2.0 8AT 4WD\n",
      "- **Кузов**: Внедорожник 5 дв.\n",
      "- **Двигатель**: 2,0 л бензиновый, мощностью 218 л.с.\n",
      "- **Коробка передач**: Автоматическая (АКПП)\n",
      "- **Привод**: Полный\n",
      "- **Поколение**: 1, рестайлинг с 2017 года\n",
      "\n",
      "Haval H9 – это не просто <легковой> автомобиль, это настоящий внедорожник, способный преодолевать любые препятствия благодаря своему мощному двигателю и полному приводу. Модель Elite 2.0 8AT 4WD обладает всеми необходимыми качествами для тех, кто ценит комфорт, безопасность и производительность.\n",
      "\n",
      "**Преимущества лизинга**\n",
      "\n",
      "Выбирая <Haval H9> в лизинг, вы получаете не только автомобиль высокого класса, но и ряд <преимуществ лизинга>:\n",
      "\n",
      "- **Минимальный платеж**: Всего 53772 рубля.\n",
      "- **Экономия**: Сниженная стоимость автомобиля с 4099000 до 3999000 рублей.\n",
      "- **Гибкость**: Возможность выбора условий лизинга, адаптированных под нужды вашего бизнеса.\n",
      "\n",
      "**Условия лизинга**\n",
      "\n",
      "<Условия лизинга> для Haval H9 предусматривают гибкие схемы финансирования, позволяющие юридическим лицам и индивидуальным предпринимателям приобрести автомобиль с минимальными затратами и без лишних хлопот. Это отличная возможность обновить автопарк вашей компании, не отвлекая значительных средств из оборота.\n",
      "\n",
      "**Заключение**\n",
      "\n",
      "Haval H9 – это выбор тех, кто ценит надежность, мощность и комфорт. Благодаря выгодным условиям лизинга, этот автомобиль станет отличным дополнением к автопарку вашей компании, подчеркнув ее статус и обеспечив надежность в любых поездках. Выбирайте <Haval H9> и наслаждайтесь безупречным качеством и комфортом уже сегодня!\n",
      "{'prompt_tokens': 771, 'completion_tokens': 923, 'total_tokens': 1694, 'total_words': 185}\n"
     ]
    }
   ],
   "source": [
    "response, token_count_dict = get_completion_from_messages(messages, model=\"gpt-4-turbo-preview\", count_tokens=True)\n",
    "print(response)\n",
    "print(token_count_dict)"
   ]
  }
 ],
 "metadata": {
  "kernelspec": {
   "display_name": "Python 3 (ipykernel)",
   "language": "python",
   "name": "python3"
  },
  "language_info": {
   "codemirror_mode": {
    "name": "ipython",
    "version": 3
   },
   "file_extension": ".py",
   "mimetype": "text/x-python",
   "name": "python",
   "nbconvert_exporter": "python",
   "pygments_lexer": "ipython3",
   "version": "3.9.6"
  }
 },
 "nbformat": 4,
 "nbformat_minor": 5
}
